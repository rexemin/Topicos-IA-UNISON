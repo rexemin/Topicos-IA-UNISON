{
 "cells": [
  {
   "cell_type": "markdown",
   "metadata": {},
   "source": [
    "# Políticas para jugar 21 con Aprendizaje por Refuerzo\n",
    "\n",
    "En esta libreta atacamos el problema del 21 otra vez. Pero ahora usando **aprendizaje por refuerzo**, y en particular con el algoritmo **SARSA**.\n",
    "\n",
    "Si llegaste directamente a esta libreta, te recomiendo visitar [esta página](https://rexemin.github.io/Topicos-IA-UNISON/2018/12/03/revancha-21.html) para que tengas un mejor contexto.\n",
    "\n",
    "Ahora si, vamos a ver el código que puede resolver este problema. Primero importaremos un módulo que facilita el uso de distribuciones de probabilidad."
   ]
  },
  {
   "cell_type": "code",
   "execution_count": 1,
   "metadata": {},
   "outputs": [],
   "source": [
    "import Distributions"
   ]
  },
  {
   "cell_type": "markdown",
   "metadata": {},
   "source": [
    "## Modelo\n",
    "\n",
    "Análogamente a las libretas pasadas ([aquí](https://nbviewer.jupyter.org/github/rexemin/Topicos-IA-UNISON/blob/master/ProgramacionDinamica/21/21-ProgramacionDinamica-SinRepartidor.ipynb) y [aquí](https://nbviewer.jupyter.org/github/rexemin/Topicos-IA-UNISON/blob/master/ProgramacionDinamica/21/21-ProgramacionDinamica-ConRepartidor.ipynb)), aquí también usaremos una estructura que agrupe todas las cosas que necesitamos (a excepción del SARSA).\n",
    "\n",
    "El modelo tendrá las siguientes cosas:\n",
    "- states: los estados iniciales del 21\n",
    "- actions: un arreglo de todas las posibles acciones\n",
    "- is_terminal: una función que nos dice si el estado que recibe es terminal o no\n",
    "- legal_actions: una función que regresa las posibles acciones en un estado particular\n",
    "- transition: una función que nos devuelve un estado nuevo a partir de un estado actual y una acción\n",
    "- reward: una función que nos devuelve la recompensa en un estado"
   ]
  },
  {
   "cell_type": "code",
   "execution_count": 2,
   "metadata": {},
   "outputs": [],
   "source": [
    "mutable struct MDP\n",
    "    states\n",
    "    actions\n",
    "    is_terminal\n",
    "    legal_actions\n",
    "    transition\n",
    "    reward\n",
    "end"
   ]
  },
  {
   "cell_type": "markdown",
   "metadata": {},
   "source": [
    "## Los algoritmos\n",
    "\n",
    "Usaremos dos algoritmos: $\\epsilon$-greedy para decidir qué acción tomar, y SARSA para aproximar la función acción-valor."
   ]
  },
  {
   "cell_type": "code",
   "execution_count": 3,
   "metadata": {},
   "outputs": [
    {
     "data": {
      "text/plain": [
       "ϵ_greedy (generic function with 1 method)"
      ]
     },
     "execution_count": 3,
     "metadata": {},
     "output_type": "execute_result"
    }
   ],
   "source": [
    "function ϵ_greedy(model::MDP, Q, s, ϵ)\n",
    "    if rand(Distributions.Binomial(1, ϵ)) == 1\n",
    "        return rand(model.legal_actions(s))\n",
    "    else\n",
    "        actions_q_value = Dict(a => get(Q, [s, a], 0) for a ∈ model.legal_actions(s))\n",
    "        \n",
    "        return findmax(actions_q_value)[2]\n",
    "    end\n",
    "end"
   ]
  },
  {
   "cell_type": "code",
   "execution_count": 4,
   "metadata": {},
   "outputs": [
    {
     "data": {
      "text/plain": [
       "Sarsa (generic function with 1 method)"
      ]
     },
     "execution_count": 4,
     "metadata": {},
     "output_type": "execute_result"
    }
   ],
   "source": [
    "function Sarsa(mdp::MDP, γ::Float64, α::Float64, ϵ::Float64, episodes::Int64, steps::Int64)\n",
    "    Q = Dict()\n",
    "    for s ∈ mdp.states\n",
    "        if !mdp.is_terminal(s)\n",
    "            for a ∈ mdp.legal_actions(s)\n",
    "                Q[[s, a]] = 0\n",
    "            end\n",
    "        else\n",
    "            Q[[s, nothing]] = 0\n",
    "        end\n",
    "    end\n",
    "    \n",
    "    for episode ∈ 1:episodes\n",
    "        println(\"In episode \", episode)\n",
    "        \n",
    "        s = rand(mdp.states)\n",
    "        \n",
    "        not_terminal = false\n",
    "        while !not_terminal\n",
    "            s = rand(mdp.states)\n",
    "            \n",
    "            if !mdp.is_terminal(s)\n",
    "                not_terminal = true\n",
    "            end\n",
    "        end\n",
    "        \n",
    "        if mdp.is_terminal(s)\n",
    "            Q[[s, nothing]] = mdp.reward(s, nothing, s)\n",
    "            continue\n",
    "        end\n",
    "        \n",
    "        a = ϵ_greedy(mdp, Q, s, ϵ)\n",
    "        \n",
    "        for step ∈ 1:steps\n",
    "            n_s = mdp.transition(s, a)\n",
    "            \n",
    "            if mdp.is_terminal(n_s)\n",
    "                Q[[n_s, nothing]] = mdp.reward(n_s, nothing, n_s)\n",
    "                break\n",
    "            end\n",
    "            \n",
    "            r = mdp.reward(s, a, n_s)\n",
    "            n_a = ϵ_greedy(mdp, Q, s, ϵ)\n",
    "            \n",
    "            Q[[s, a]] = get(Q, [s, a], 0) + α * (r + γ*get(Q, [n_s, n_a], 0) - get(Q, [s, a], 0))\n",
    "            \n",
    "            s = n_s\n",
    "            a = n_a\n",
    "        end\n",
    "    end\n",
    "    \n",
    "    # Aquí recuperamos la política óptima en base a la Q que aproximamos.\n",
    "    pol = Dict()\n",
    "    \n",
    "    for (s, a) ∈ keys(Q)\n",
    "        if !mdp.is_terminal(s)\n",
    "            actions_value = Dict()\n",
    "            \n",
    "            for a_ ∈ mdp.legal_actions(s)\n",
    "                actions_value[a] = get(Q, [s, a_], 0)\n",
    "            end\n",
    "\n",
    "            pol[s] = findmax(actions_value)[2]\n",
    "        else\n",
    "            pol[s] = a\n",
    "        end\n",
    "    end\n",
    "    \n",
    "    return pol\n",
    "end"
   ]
  },
  {
   "cell_type": "markdown",
   "metadata": {},
   "source": [
    "## Simulación\n",
    "\n",
    "### Estados iniciales\n",
    "Ahora crearemos las cosas que necesitamos para poder empezar a simular el 21. Empezaremos calculando los estados iniciales (y únicamente estos estados)."
   ]
  },
  {
   "cell_type": "code",
   "execution_count": 5,
   "metadata": {
    "scrolled": true
   },
   "outputs": [
    {
     "data": {
      "text/plain": [
       "220-element Array{Any,1}:\n",
       " [2, 2, 1, 0]  \n",
       " [2, 2, 2, 0]  \n",
       " [2, 2, 3, 0]  \n",
       " [2, 2, 4, 0]  \n",
       " [2, 2, 5, 0]  \n",
       " [2, 2, 6, 0]  \n",
       " [2, 2, 7, 0]  \n",
       " [2, 2, 8, 0]  \n",
       " [2, 2, 9, 0]  \n",
       " [2, 2, 10, 0] \n",
       " [2, 2, 11, 0] \n",
       " [2, 3, 1, 0]  \n",
       " [2, 3, 2, 0]  \n",
       " ⋮             \n",
       " [2, 20, 11, 0]\n",
       " [2, 21, 1, 1] \n",
       " [2, 21, 2, 1] \n",
       " [2, 21, 3, 1] \n",
       " [2, 21, 4, 1] \n",
       " [2, 21, 5, 1] \n",
       " [2, 21, 6, 1] \n",
       " [2, 21, 7, 1] \n",
       " [2, 21, 8, 1] \n",
       " [2, 21, 9, 1] \n",
       " [2, 21, 10, 1]\n",
       " [2, 21, 11, 1]"
      ]
     },
     "execution_count": 5,
     "metadata": {},
     "output_type": "execute_result"
    }
   ],
   "source": [
    "states = []\n",
    "\n",
    "for i ∈ 2:21\n",
    "    for j ∈ 1:11\n",
    "        push!(states, [2, i, j, 0])\n",
    "    end\n",
    "end\n",
    "\n",
    "for s ∈ states\n",
    "    if s[2] >= 21 || s[3] >= 17 || s[1] == 4\n",
    "        s[4] = 1\n",
    "    end\n",
    "end\n",
    "\n",
    "states"
   ]
  },
  {
   "cell_type": "markdown",
   "metadata": {},
   "source": [
    "### Acciones\n",
    "\n",
    "En las siguientes celdas se definen las funciones que nos permitirán manejar las acciones que pueden realizarse en cada estado durante la simulación."
   ]
  },
  {
   "cell_type": "code",
   "execution_count": 6,
   "metadata": {},
   "outputs": [
    {
     "data": {
      "text/plain": [
       "2-element Array{Symbol,1}:\n",
       " :hit  \n",
       " :stand"
      ]
     },
     "execution_count": 6,
     "metadata": {},
     "output_type": "execute_result"
    }
   ],
   "source": [
    "actions = [:hit, :stand]"
   ]
  },
  {
   "cell_type": "code",
   "execution_count": 8,
   "metadata": {},
   "outputs": [
    {
     "data": {
      "text/plain": [
       "legal_actions (generic function with 1 method)"
      ]
     },
     "execution_count": 8,
     "metadata": {},
     "output_type": "execute_result"
    }
   ],
   "source": [
    "function legal_actions(s)\n",
    "    if s[4] == 0\n",
    "        return [:hit, :stand]\n",
    "    else\n",
    "        return nothing\n",
    "    end\n",
    "end"
   ]
  },
  {
   "cell_type": "markdown",
   "metadata": {},
   "source": [
    "### Transiciones\n",
    "\n",
    "En las siguientes celdas están las funciones que nos permitirán dar pasos en la simulación, así como saber cuando parar.\n",
    "\n",
    "En la función de transición solo se le suma una carta aleatoria a la mano respectiva y se revisa si se llegó a un estado terminal."
   ]
  },
  {
   "cell_type": "code",
   "execution_count": 7,
   "metadata": {},
   "outputs": [
    {
     "data": {
      "text/plain": [
       "is_terminal (generic function with 1 method)"
      ]
     },
     "execution_count": 7,
     "metadata": {},
     "output_type": "execute_result"
    }
   ],
   "source": [
    "function is_terminal(s)\n",
    "    terminal = false\n",
    "    \n",
    "    if s[4] == 1\n",
    "        terminal = true\n",
    "    end\n",
    "    \n",
    "    return terminal\n",
    "end"
   ]
  },
  {
   "cell_type": "code",
   "execution_count": 9,
   "metadata": {},
   "outputs": [
    {
     "data": {
      "text/plain": [
       "transition (generic function with 1 method)"
      ]
     },
     "execution_count": 9,
     "metadata": {},
     "output_type": "execute_result"
    }
   ],
   "source": [
    "function transition(s, a)\n",
    "    if a == :hit\n",
    "        s[1] += 1\n",
    "        s[2] += rand([1, 2, 3, 4, 5, 6, 7, 8, 9, 10, 10, 10, 10, 11])\n",
    "    elseif a == :stand\n",
    "        s[3] += rand([1, 2, 3, 4, 5, 6, 7, 8, 9, 10, 10, 10, 10, 11])\n",
    "    end\n",
    "    \n",
    "    if s[2] >= 21 || s[3] >= 21 || s[1] == 4\n",
    "        s[4] = 1\n",
    "    end\n",
    "    \n",
    "    return s\n",
    "end"
   ]
  },
  {
   "cell_type": "markdown",
   "metadata": {},
   "source": [
    "### Recompensa\n",
    "\n",
    "Por último, definiremos la función de recompensa para un paso en la simulación."
   ]
  },
  {
   "cell_type": "code",
   "execution_count": 10,
   "metadata": {},
   "outputs": [
    {
     "data": {
      "text/plain": [
       "reward (generic function with 1 method)"
      ]
     },
     "execution_count": 10,
     "metadata": {},
     "output_type": "execute_result"
    }
   ],
   "source": [
    "function reward(s, a, n_s)\n",
    "    if n_s[4] == 1\n",
    "        if n_s[2] <= 21\n",
    "            if n_s[2] == 21 || n_s[1] == 4 || n_s[2] >= n_s[3] || n_s[3] > 21\n",
    "                return 1\n",
    "            else\n",
    "                return -1\n",
    "            end\n",
    "        else\n",
    "            return -1\n",
    "        end\n",
    "    else\n",
    "        return 0\n",
    "    end\n",
    "end"
   ]
  },
  {
   "cell_type": "markdown",
   "metadata": {},
   "source": [
    "## Ejecución\n",
    "\n",
    "Con todo listo, podemos pasar a ejecutar la simulación. También podemos jugar con los parámetros de la misma."
   ]
  },
  {
   "cell_type": "code",
   "execution_count": 11,
   "metadata": {},
   "outputs": [
    {
     "data": {
      "text/plain": [
       "MDP(Any[[2, 2, 1, 0], [2, 2, 2, 0], [2, 2, 3, 0], [2, 2, 4, 0], [2, 2, 5, 0], [2, 2, 6, 0], [2, 2, 7, 0], [2, 2, 8, 0], [2, 2, 9, 0], [2, 2, 10, 0]  …  [2, 21, 2, 1], [2, 21, 3, 1], [2, 21, 4, 1], [2, 21, 5, 1], [2, 21, 6, 1], [2, 21, 7, 1], [2, 21, 8, 1], [2, 21, 9, 1], [2, 21, 10, 1], [2, 21, 11, 1]], Symbol[:hit, :stand], is_terminal, legal_actions, transition, reward)"
      ]
     },
     "execution_count": 11,
     "metadata": {},
     "output_type": "execute_result"
    }
   ],
   "source": [
    "twenty_one = MDP(states, actions, is_terminal, legal_actions, transition, reward)"
   ]
  },
  {
   "cell_type": "code",
   "execution_count": 12,
   "metadata": {},
   "outputs": [
    {
     "data": {
      "text/plain": [
       "10"
      ]
     },
     "execution_count": 12,
     "metadata": {},
     "output_type": "execute_result"
    }
   ],
   "source": [
    "γ = 0.9\n",
    "α = 0.5\n",
    "ϵ = 0.1\n",
    "episodes = 90\n",
    "steps = 10"
   ]
  },
  {
   "cell_type": "code",
   "execution_count": 13,
   "metadata": {
    "scrolled": true
   },
   "outputs": [
    {
     "name": "stdout",
     "output_type": "stream",
     "text": [
      "In episode 1\n",
      "In episode 2\n",
      "In episode 3\n",
      "In episode 4\n",
      "In episode 5\n",
      "In episode 6\n",
      "In episode 7\n",
      "In episode 8\n",
      "In episode 9\n",
      "In episode 10\n",
      "In episode 11\n",
      "In episode 12\n",
      "In episode 13\n",
      "In episode 14\n",
      "In episode 15\n",
      "In episode 16\n",
      "In episode 17\n",
      "In episode 18\n",
      "In episode 19\n",
      "In episode 20\n",
      "In episode 21\n",
      "In episode 22\n",
      "In episode 23\n",
      "In episode 24\n",
      "In episode 25\n",
      "In episode 26\n",
      "In episode 27\n",
      "In episode 28\n",
      "In episode 29\n",
      "In episode 30\n",
      "In episode 31\n",
      "In episode 32\n",
      "In episode 33\n",
      "In episode 34\n",
      "In episode 35\n",
      "In episode 36\n",
      "In episode 37\n",
      "In episode 38\n",
      "In episode 39\n",
      "In episode 40\n",
      "In episode 41\n",
      "In episode 42\n",
      "In episode 43\n",
      "In episode 44\n",
      "In episode 45\n",
      "In episode 46\n",
      "In episode 47\n",
      "In episode 48\n",
      "In episode 49\n",
      "In episode 50\n",
      "In episode 51\n",
      "In episode 52\n",
      "In episode 53\n",
      "In episode 54\n",
      "In episode 55\n",
      "In episode 56\n",
      "In episode 57\n",
      "In episode 58\n",
      "In episode 59\n",
      "In episode 60\n",
      "In episode 61\n",
      "In episode 62\n",
      "In episode 63\n",
      "In episode 64\n",
      "In episode 65\n",
      "In episode 66\n",
      "In episode 67\n",
      "In episode 68\n",
      "In episode 69\n",
      "In episode 70\n",
      "In episode 71\n",
      "In episode 72\n",
      "In episode 73\n",
      "In episode 74\n",
      "In episode 75\n",
      "In episode 76\n",
      "In episode 77\n",
      "In episode 78\n",
      "In episode 79\n",
      "In episode 80\n",
      "In episode 81\n",
      "In episode 82\n",
      "In episode 83\n",
      "In episode 84\n",
      "In episode 85\n",
      "In episode 86\n",
      "In episode 87\n",
      "In episode 88\n",
      "In episode 89\n",
      "In episode 90\n"
     ]
    },
    {
     "data": {
      "text/plain": [
       "Dict{Any,Any} with 201 entries:\n",
       "  [2, 17, 21, 1] => :hit\n",
       "  [2, 21, 10, 1] => nothing\n",
       "  [2, 4, 21, 1]  => nothing\n",
       "  [2, 10, 3, 0]  => :hit\n",
       "  [2, 13, 21, 1] => :hit\n",
       "  [2, 6, 7, 0]   => :hit\n",
       "  [2, 3, 29, 1]  => nothing\n",
       "  [2, 11, 26, 1] => :stand\n",
       "  [2, 10, 29, 1] => nothing\n",
       "  [2, 4, 11, 0]  => :hit\n",
       "  [2, 2, 8, 0]   => :stand\n",
       "  [2, 7, 26, 1]  => :hit\n",
       "  [2, 9, 4, 0]   => :hit\n",
       "  [2, 9, 3, 0]   => :hit\n",
       "  [2, 19, 11, 0] => :hit\n",
       "  [2, 9, 7, 0]   => :hit\n",
       "  [2, 5, 10, 0]  => :stand\n",
       "  [2, 15, 1, 0]  => :stand\n",
       "  [2, 13, 6, 0]  => :hit\n",
       "  [2, 16, 26, 1] => :hit\n",
       "  [2, 16, 4, 0]  => :stand\n",
       "  [2, 3, 11, 0]  => :hit\n",
       "  [2, 18, 10, 0] => :stand\n",
       "  [2, 17, 10, 0] => :stand\n",
       "  [2, 5, 6, 0]   => :stand\n",
       "  ⋮              => ⋮"
      ]
     },
     "execution_count": 13,
     "metadata": {},
     "output_type": "execute_result"
    }
   ],
   "source": [
    "pol = Sarsa(twenty_one, γ, α, ϵ, episodes, steps)"
   ]
  },
  {
   "cell_type": "markdown",
   "metadata": {},
   "source": [
    "## Política encontrada\n",
    "\n",
    "Finalmente, podemos ver los resultados del SARSA. Muchísimo mejores que los que conseguí con programación dinámica."
   ]
  },
  {
   "cell_type": "code",
   "execution_count": 14,
   "metadata": {
    "scrolled": false
   },
   "outputs": [
    {
     "name": "stdout",
     "output_type": "stream",
     "text": [
      "[2, 17, 21, 1]hit\n",
      "[2, 10, 3, 0]hit\n",
      "[2, 13, 21, 1]hit\n",
      "[2, 6, 7, 0]hit\n",
      "[2, 11, 26, 1]stand\n",
      "[2, 4, 11, 0]hit\n",
      "[2, 2, 8, 0]stand\n",
      "[2, 7, 26, 1]hit\n",
      "[2, 9, 4, 0]hit\n",
      "[2, 9, 3, 0]hit\n",
      "[2, 19, 11, 0]hit\n",
      "[2, 9, 7, 0]hit\n",
      "[2, 5, 10, 0]stand\n",
      "[2, 15, 1, 0]stand\n",
      "[2, 13, 6, 0]hit\n",
      "[2, 16, 26, 1]hit\n",
      "[2, 16, 4, 0]stand\n",
      "[2, 3, 11, 0]hit\n",
      "[2, 18, 10, 0]stand\n",
      "[2, 17, 10, 0]stand\n",
      "[2, 5, 6, 0]stand\n",
      "[2, 18, 6, 0]stand\n",
      "[2, 14, 11, 0]hit\n",
      "[2, 12, 27, 1]hit\n",
      "[2, 18, 5, 0]hit\n",
      "[2, 14, 9, 0]hit\n",
      "[2, 5, 27, 1]stand\n",
      "[2, 3, 9, 0]hit\n",
      "[2, 19, 22, 1]stand\n",
      "[2, 20, 11, 0]stand\n",
      "[2, 7, 7, 0]hit\n",
      "[2, 12, 23, 1]stand\n",
      "[2, 17, 24, 1]stand\n",
      "[2, 8, 2, 0]stand\n",
      "[2, 20, 2, 0]hit\n",
      "[2, 14, 5, 0]stand\n",
      "[2, 16, 21, 1]hit\n",
      "[2, 7, 6, 0]stand\n",
      "[2, 15, 27, 1]stand\n",
      "[2, 10, 7, 0]hit\n",
      "[2, 4, 28, 1]stand\n",
      "[2, 5, 11, 0]hit\n",
      "[2, 15, 3, 0]hit\n",
      "[2, 17, 23, 1]hit\n",
      "[2, 5, 9, 0]hit\n",
      "[2, 3, 28, 1]hit\n",
      "[2, 10, 4, 0]stand\n",
      "[2, 6, 1, 0]stand\n",
      "[2, 15, 30, 1]stand\n",
      "[3, 23, 19, 1]stand\n",
      "[2, 16, 6, 0]stand\n",
      "[2, 13, 22, 1]stand\n",
      "[2, 10, 6, 0]hit\n",
      "[2, 2, 30, 1]hit\n",
      "[2, 17, 6, 0]stand\n",
      "[2, 19, 26, 1]hit\n",
      "[2, 2, 10, 0]stand\n",
      "[2, 2, 5, 0]stand\n",
      "[2, 12, 11, 0]hit\n",
      "[3, 27, 18, 1]stand\n",
      "[2, 4, 4, 0]hit\n",
      "[2, 13, 1, 0]hit\n",
      "[2, 5, 22, 1]stand\n",
      "[2, 8, 21, 1]hit\n",
      "[2, 19, 6, 0]hit\n",
      "[2, 14, 2, 0]hit\n",
      "[2, 5, 7, 0]hit\n",
      "[2, 7, 22, 1]hit\n",
      "[2, 11, 7, 0]hit\n",
      "[2, 9, 25, 1]stand\n",
      "[2, 19, 2, 0]hit\n",
      "[2, 18, 4, 0]stand\n",
      "[2, 11, 6, 0]stand\n",
      "[2, 11, 8, 0]hit\n",
      "[2, 20, 26, 1]stand\n",
      "[2, 7, 11, 0]stand\n",
      "[2, 10, 23, 1]stand\n",
      "[2, 7, 9, 0]hit\n",
      "[2, 5, 2, 0]stand\n",
      "[2, 6, 23, 1]hit\n",
      "[2, 4, 7, 0]hit\n",
      "[2, 2, 7, 0]stand\n",
      "[2, 14, 10, 0]stand\n",
      "[2, 12, 21, 1]stand\n",
      "[2, 14, 8, 0]stand\n",
      "[2, 20, 30, 1]hit\n",
      "[2, 7, 3, 0]hit\n",
      "[2, 7, 8, 0]stand\n",
      "[2, 8, 8, 0]hit\n",
      "[2, 11, 2, 0]hit\n",
      "[2, 17, 4, 0]stand\n",
      "[2, 5, 28, 1]stand\n",
      "[2, 17, 27, 1]hit\n",
      "[3, 14, 29, 1]hit\n",
      "[2, 2, 21, 1]hit\n",
      "[3, 12, 24, 1]stand\n",
      "[2, 12, 2, 0]hit\n",
      "[2, 19, 7, 0]stand\n",
      "[2, 3, 3, 0]hit\n",
      "[2, 6, 6, 0]stand\n",
      "[2, 7, 4, 0]hit\n",
      "[2, 16, 3, 0]stand\n",
      "[2, 4, 8, 0]hit\n",
      "[2, 15, 25, 1]hit\n",
      "[2, 6, 4, 0]hit\n",
      "[2, 18, 1, 0]stand\n",
      "[2, 6, 11, 0]hit\n",
      "[2, 11, 10, 0]hit\n",
      "[2, 10, 8, 0]stand\n",
      "[2, 6, 10, 0]hit\n",
      "[3, 24, 20, 1]stand\n",
      "[2, 9, 2, 0]hit\n",
      "[2, 3, 22, 1]hit\n",
      "[2, 18, 11, 0]stand\n",
      "[2, 3, 2, 0]stand\n",
      "[2, 14, 26, 1]hit\n",
      "[2, 3, 26, 1]hit\n",
      "[2, 16, 5, 0]stand\n",
      "[2, 18, 2, 0]hit\n",
      "[2, 9, 21, 1]stand\n",
      "[2, 16, 2, 0]hit\n",
      "[2, 8, 26, 1]hit\n",
      "[2, 20, 27, 1]stand\n",
      "[2, 13, 29, 1]hit\n",
      "[2, 9, 5, 0]hit\n",
      "[2, 4, 3, 0]hit\n",
      "[2, 12, 5, 0]stand\n",
      "[2, 3, 7, 0]hit\n",
      "[2, 2, 27, 1]stand\n",
      "[2, 19, 1, 0]hit\n",
      "[2, 12, 8, 0]hit\n",
      "[2, 10, 11, 0]hit\n",
      "[2, 20, 8, 0]stand\n",
      "[2, 19, 9, 0]hit\n",
      "[2, 15, 22, 1]stand\n",
      "[2, 12, 3, 0]hit\n",
      "[2, 5, 1, 0]stand\n",
      "[2, 2, 4, 0]hit\n",
      "[3, 28, 9, 1]stand\n",
      "[2, 10, 28, 1]hit\n",
      "[2, 3, 10, 0]stand\n",
      "[2, 15, 5, 0]stand\n",
      "[2, 19, 3, 0]hit\n",
      "[2, 18, 8, 0]stand\n",
      "[2, 6, 9, 0]hit\n",
      "[2, 18, 9, 0]hit\n",
      "[2, 10, 10, 0]hit\n",
      "[2, 8, 5, 0]stand\n",
      "[2, 5, 5, 0]hit\n",
      "[2, 8, 3, 0]stand\n",
      "[2, 7, 10, 0]hit\n",
      "[2, 12, 1, 0]stand\n",
      "[2, 17, 22, 1]stand\n",
      "[2, 8, 6, 0]stand\n",
      "[2, 9, 8, 0]hit\n",
      "[2, 12, 6, 0]hit\n",
      "[2, 9, 10, 0]hit\n",
      "[2, 20, 9, 0]hit\n",
      "[2, 2, 11, 0]hit\n",
      "[2, 8, 7, 0]stand\n",
      "[2, 17, 5, 0]hit\n",
      "[2, 8, 10, 0]hit\n",
      "[2, 6, 5, 0]hit\n",
      "[2, 8, 28, 1]hit\n",
      "[2, 15, 6, 0]hit\n",
      "[2, 2, 3, 0]stand\n",
      "[2, 4, 23, 1]stand\n",
      "[2, 14, 7, 0]hit\n",
      "[2, 13, 9, 0]stand\n",
      "[2, 18, 3, 0]hit\n"
     ]
    }
   ],
   "source": [
    "for k ∈ keys(pol)\n",
    "    if !(pol[k] == nothing)\n",
    "        println(k, pol[k])\n",
    "    end\n",
    "end"
   ]
  }
 ],
 "metadata": {
  "@webio": {
   "lastCommId": "C46E4B4A89214BE781E57D9302CF1D60",
   "lastKernelId": "c3f5e1d4-bd45-418a-bdf7-acebf1142bb9"
  },
  "kernelspec": {
   "display_name": "Julia 1.0.0",
   "language": "julia",
   "name": "julia-1.0"
  },
  "language_info": {
   "file_extension": ".jl",
   "mimetype": "application/julia",
   "name": "julia",
   "version": "1.0.0"
  }
 },
 "nbformat": 4,
 "nbformat_minor": 2
}
