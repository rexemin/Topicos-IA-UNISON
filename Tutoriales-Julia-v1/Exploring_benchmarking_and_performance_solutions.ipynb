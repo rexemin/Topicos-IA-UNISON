{
 "cells": [
  {
   "cell_type": "markdown",
   "metadata": {},
   "source": [
    "## Benchmarking tips\n",
    "\n",
    "In the `Julia is fast` notebook, we saw the package `BenchmarkTools` and used its `@benchmark` macro.\n",
    "\n",
    "In this notebook, we'll explore the importance of \"interpolating\" global variables when benchmarking functions.\n",
    "\n",
    "We interpolate a global variable by throwing a `$` in front of it. For example, in `Julia is fast`, we benchmarked the `sum` function using `Vector` `A` via\n",
    "\n",
    "```julia\n",
    "@benchmark sum($A)\n",
    "```\n",
    "\n",
    "not\n",
    "\n",
    "```julia\n",
    "@benchmark sum(A)\n",
    "```\n",
    "\n",
    "Let's see if this can make a difference by examining the ratio in execution times of `sum($A)` and `sum(A)` for differently sized arrays `A`. \n",
    "\n",
    "#### Exercise\n",
    "\n",
    "Call the `sum` function on a pseudo-randomly populated 1D array called `foo` of several lengths between 2 and 2^20 (~10^6). For each size of `foo`, determine the ratio of execution times for `sum(foo)` and `sum($foo)`. (To determine this ratio, use the minimum run times in each case.)\n",
    "\n",
    "Plot the ratio of execution times for non-interpolated and interpolated `foo` in calls to `sum` versus the length of `foo`. Does interpolating `foo` seem to matter? If so, for what sizes of `foo`?\n",
    "\n",
    "#### Solution\n",
    "\n"
   ]
  },
  {
   "cell_type": "code",
   "execution_count": 6,
   "metadata": {
    "collapsed": true
   },
   "outputs": [],
   "source": [
    "using BenchmarkTools, Plots"
   ]
  },
  {
   "cell_type": "code",
   "execution_count": 7,
   "metadata": {},
   "outputs": [
    {
     "data": {
      "text/plain": [
       "Plots.GRBackend()"
      ]
     },
     "execution_count": 7,
     "metadata": {},
     "output_type": "execute_result"
    }
   ],
   "source": [
    "gr()"
   ]
  },
  {
   "cell_type": "code",
   "execution_count": 8,
   "metadata": {},
   "outputs": [],
   "source": [
    "store_ratios = []\n",
    "foo = rand()\n",
    "for i in 1:20\n",
    "    foo = rand(2^i) \n",
    "    not_interpolated = @benchmark sum(foo)\n",
    "    interpolated = @benchmark sum($foo)\n",
    "    min_not_interpolated = minimum(not_interpolated.times)\n",
    "    min_interpolated = minimum(interpolated.times)\n",
    "    ratio = min_not_interpolated / min_interpolated\n",
    "    append!(store_ratios, ratio)\n",
    "end"
   ]
  },
  {
   "cell_type": "code",
   "execution_count": 9,
   "metadata": {},
   "outputs": [
    {
     "data": {
      "image/svg+xml": [
       "<?xml version=\"1.0\" encoding=\"utf-8\"?>\n",
       "<svg xmlns=\"http://www.w3.org/2000/svg\" xmlns:xlink=\"http://www.w3.org/1999/xlink\" width=\"600\" height=\"400\" viewBox=\"0 0 600 400\">\n",
       "<defs>\n",
       "  <clipPath id=\"clip1400\">\n",
       "    <rect x=\"0\" y=\"0\" width=\"600\" height=\"400\"/>\n",
       "  </clipPath>\n",
       "</defs>\n",
       "<polygon clip-path=\"url(#clip1400)\" points=\"\n",
       "0,400 600,400 600,0 0,0 \n",
       "  \" fill=\"#ffffff\" fill-opacity=\"1\"/>\n",
       "<defs>\n",
       "  <clipPath id=\"clip1401\">\n",
       "    <rect x=\"120\" y=\"0\" width=\"421\" height=\"400\"/>\n",
       "  </clipPath>\n",
       "</defs>\n",
       "<polygon clip-path=\"url(#clip1400)\" points=\"\n",
       "38.1866,360.121 580.315,360.121 580.315,31.4961 38.1866,31.4961 \n",
       "  \" fill=\"#ffffff\" fill-opacity=\"1\"/>\n",
       "<defs>\n",
       "  <clipPath id=\"clip1402\">\n",
       "    <rect x=\"38\" y=\"31\" width=\"543\" height=\"330\"/>\n",
       "  </clipPath>\n",
       "</defs>\n",
       "<polyline clip-path=\"url(#clip1402)\" style=\"stroke:#000000; stroke-width:0.5; stroke-opacity:0.1; fill:none\" points=\"\n",
       "  161.202,360.121 161.202,31.4961 \n",
       "  \"/>\n",
       "<polyline clip-path=\"url(#clip1402)\" style=\"stroke:#000000; stroke-width:0.5; stroke-opacity:0.1; fill:none\" points=\"\n",
       "  295.792,360.121 295.792,31.4961 \n",
       "  \"/>\n",
       "<polyline clip-path=\"url(#clip1402)\" style=\"stroke:#000000; stroke-width:0.5; stroke-opacity:0.1; fill:none\" points=\"\n",
       "  430.382,360.121 430.382,31.4961 \n",
       "  \"/>\n",
       "<polyline clip-path=\"url(#clip1402)\" style=\"stroke:#000000; stroke-width:0.5; stroke-opacity:0.1; fill:none\" points=\"\n",
       "  564.972,360.121 564.972,31.4961 \n",
       "  \"/>\n",
       "<polyline clip-path=\"url(#clip1402)\" style=\"stroke:#000000; stroke-width:0.5; stroke-opacity:0.1; fill:none\" points=\"\n",
       "  38.1866,350.832 580.315,350.832 \n",
       "  \"/>\n",
       "<polyline clip-path=\"url(#clip1402)\" style=\"stroke:#000000; stroke-width:0.5; stroke-opacity:0.1; fill:none\" points=\"\n",
       "  38.1866,291.872 580.315,291.872 \n",
       "  \"/>\n",
       "<polyline clip-path=\"url(#clip1402)\" style=\"stroke:#000000; stroke-width:0.5; stroke-opacity:0.1; fill:none\" points=\"\n",
       "  38.1866,232.912 580.315,232.912 \n",
       "  \"/>\n",
       "<polyline clip-path=\"url(#clip1402)\" style=\"stroke:#000000; stroke-width:0.5; stroke-opacity:0.1; fill:none\" points=\"\n",
       "  38.1866,173.952 580.315,173.952 \n",
       "  \"/>\n",
       "<polyline clip-path=\"url(#clip1402)\" style=\"stroke:#000000; stroke-width:0.5; stroke-opacity:0.1; fill:none\" points=\"\n",
       "  38.1866,114.993 580.315,114.993 \n",
       "  \"/>\n",
       "<polyline clip-path=\"url(#clip1402)\" style=\"stroke:#000000; stroke-width:0.5; stroke-opacity:0.1; fill:none\" points=\"\n",
       "  38.1866,56.0329 580.315,56.0329 \n",
       "  \"/>\n",
       "<polyline clip-path=\"url(#clip1400)\" style=\"stroke:#000000; stroke-width:1; stroke-opacity:1; fill:none\" points=\"\n",
       "  38.1866,360.121 580.315,360.121 \n",
       "  \"/>\n",
       "<polyline clip-path=\"url(#clip1400)\" style=\"stroke:#000000; stroke-width:1; stroke-opacity:1; fill:none\" points=\"\n",
       "  38.1866,360.121 38.1866,31.4961 \n",
       "  \"/>\n",
       "<polyline clip-path=\"url(#clip1400)\" style=\"stroke:#000000; stroke-width:1; stroke-opacity:1; fill:none\" points=\"\n",
       "  161.202,360.121 161.202,355.191 \n",
       "  \"/>\n",
       "<polyline clip-path=\"url(#clip1400)\" style=\"stroke:#000000; stroke-width:1; stroke-opacity:1; fill:none\" points=\"\n",
       "  295.792,360.121 295.792,355.191 \n",
       "  \"/>\n",
       "<polyline clip-path=\"url(#clip1400)\" style=\"stroke:#000000; stroke-width:1; stroke-opacity:1; fill:none\" points=\"\n",
       "  430.382,360.121 430.382,355.191 \n",
       "  \"/>\n",
       "<polyline clip-path=\"url(#clip1400)\" style=\"stroke:#000000; stroke-width:1; stroke-opacity:1; fill:none\" points=\"\n",
       "  564.972,360.121 564.972,355.191 \n",
       "  \"/>\n",
       "<polyline clip-path=\"url(#clip1400)\" style=\"stroke:#000000; stroke-width:1; stroke-opacity:1; fill:none\" points=\"\n",
       "  38.1866,350.832 46.3186,350.832 \n",
       "  \"/>\n",
       "<polyline clip-path=\"url(#clip1400)\" style=\"stroke:#000000; stroke-width:1; stroke-opacity:1; fill:none\" points=\"\n",
       "  38.1866,291.872 46.3186,291.872 \n",
       "  \"/>\n",
       "<polyline clip-path=\"url(#clip1400)\" style=\"stroke:#000000; stroke-width:1; stroke-opacity:1; fill:none\" points=\"\n",
       "  38.1866,232.912 46.3186,232.912 \n",
       "  \"/>\n",
       "<polyline clip-path=\"url(#clip1400)\" style=\"stroke:#000000; stroke-width:1; stroke-opacity:1; fill:none\" points=\"\n",
       "  38.1866,173.952 46.3186,173.952 \n",
       "  \"/>\n",
       "<polyline clip-path=\"url(#clip1400)\" style=\"stroke:#000000; stroke-width:1; stroke-opacity:1; fill:none\" points=\"\n",
       "  38.1866,114.993 46.3186,114.993 \n",
       "  \"/>\n",
       "<polyline clip-path=\"url(#clip1400)\" style=\"stroke:#000000; stroke-width:1; stroke-opacity:1; fill:none\" points=\"\n",
       "  38.1866,56.0329 46.3186,56.0329 \n",
       "  \"/>\n",
       "<g clip-path=\"url(#clip1400)\">\n",
       "<text style=\"fill:#000000; fill-opacity:1; font-family:Arial,Helvetica Neue,Helvetica,sans-serif; font-size:12; text-anchor:middle;\" transform=\"rotate(0, 161.202, 373.921)\" x=\"161.202\" y=\"373.921\">5</text>\n",
       "</g>\n",
       "<g clip-path=\"url(#clip1400)\">\n",
       "<text style=\"fill:#000000; fill-opacity:1; font-family:Arial,Helvetica Neue,Helvetica,sans-serif; font-size:12; text-anchor:middle;\" transform=\"rotate(0, 295.792, 373.921)\" x=\"295.792\" y=\"373.921\">10</text>\n",
       "</g>\n",
       "<g clip-path=\"url(#clip1400)\">\n",
       "<text style=\"fill:#000000; fill-opacity:1; font-family:Arial,Helvetica Neue,Helvetica,sans-serif; font-size:12; text-anchor:middle;\" transform=\"rotate(0, 430.382, 373.921)\" x=\"430.382\" y=\"373.921\">15</text>\n",
       "</g>\n",
       "<g clip-path=\"url(#clip1400)\">\n",
       "<text style=\"fill:#000000; fill-opacity:1; font-family:Arial,Helvetica Neue,Helvetica,sans-serif; font-size:12; text-anchor:middle;\" transform=\"rotate(0, 564.972, 373.921)\" x=\"564.972\" y=\"373.921\">20</text>\n",
       "</g>\n",
       "<g clip-path=\"url(#clip1400)\">\n",
       "<text style=\"fill:#000000; fill-opacity:1; font-family:Arial,Helvetica Neue,Helvetica,sans-serif; font-size:12; text-anchor:end;\" transform=\"rotate(0, 32.1866, 355.332)\" x=\"32.1866\" y=\"355.332\">1</text>\n",
       "</g>\n",
       "<g clip-path=\"url(#clip1400)\">\n",
       "<text style=\"fill:#000000; fill-opacity:1; font-family:Arial,Helvetica Neue,Helvetica,sans-serif; font-size:12; text-anchor:end;\" transform=\"rotate(0, 32.1866, 296.372)\" x=\"32.1866\" y=\"296.372\">2</text>\n",
       "</g>\n",
       "<g clip-path=\"url(#clip1400)\">\n",
       "<text style=\"fill:#000000; fill-opacity:1; font-family:Arial,Helvetica Neue,Helvetica,sans-serif; font-size:12; text-anchor:end;\" transform=\"rotate(0, 32.1866, 237.412)\" x=\"32.1866\" y=\"237.412\">3</text>\n",
       "</g>\n",
       "<g clip-path=\"url(#clip1400)\">\n",
       "<text style=\"fill:#000000; fill-opacity:1; font-family:Arial,Helvetica Neue,Helvetica,sans-serif; font-size:12; text-anchor:end;\" transform=\"rotate(0, 32.1866, 178.452)\" x=\"32.1866\" y=\"178.452\">4</text>\n",
       "</g>\n",
       "<g clip-path=\"url(#clip1400)\">\n",
       "<text style=\"fill:#000000; fill-opacity:1; font-family:Arial,Helvetica Neue,Helvetica,sans-serif; font-size:12; text-anchor:end;\" transform=\"rotate(0, 32.1866, 119.493)\" x=\"32.1866\" y=\"119.493\">5</text>\n",
       "</g>\n",
       "<g clip-path=\"url(#clip1400)\">\n",
       "<text style=\"fill:#000000; fill-opacity:1; font-family:Arial,Helvetica Neue,Helvetica,sans-serif; font-size:12; text-anchor:end;\" transform=\"rotate(0, 32.1866, 60.5329)\" x=\"32.1866\" y=\"60.5329\">6</text>\n",
       "</g>\n",
       "<g clip-path=\"url(#clip1400)\">\n",
       "<text style=\"fill:#000000; fill-opacity:1; font-family:Arial,Helvetica Neue,Helvetica,sans-serif; font-size:21; text-anchor:middle;\" transform=\"rotate(0, 309.251, 18)\" x=\"309.251\" y=\"18\">Performance increase from interpolating a global variable</text>\n",
       "</g>\n",
       "<g clip-path=\"url(#clip1400)\">\n",
       "<text style=\"fill:#000000; fill-opacity:1; font-family:Arial,Helvetica Neue,Helvetica,sans-serif; font-size:16; text-anchor:middle;\" transform=\"rotate(0, 309.251, 397.6)\" x=\"309.251\" y=\"397.6\">The log of the length of `foo`</text>\n",
       "</g>\n",
       "<g clip-path=\"url(#clip1400)\">\n",
       "<text style=\"fill:#000000; fill-opacity:1; font-family:Arial,Helvetica Neue,Helvetica,sans-serif; font-size:16; text-anchor:middle;\" transform=\"rotate(-90, 14.4, 195.808)\" x=\"14.4\" y=\"195.808\">Factor of performance increase</text>\n",
       "</g>\n",
       "<polyline clip-path=\"url(#clip1402)\" style=\"stroke:#009af9; stroke-width:1; stroke-opacity:1; fill:none\" points=\"\n",
       "  53.5299,40.7968 80.4479,42.5374 107.366,108.179 134.284,241.384 161.202,240.246 188.12,252.895 215.038,299.193 241.956,314.33 268.874,316.361 295.792,329.22 \n",
       "  322.71,342.135 349.628,346.268 376.546,348.901 403.464,349.973 430.382,349.824 457.3,350.406 484.218,350.82 511.136,343.237 538.054,349.719 564.972,349.078 \n",
       "  \n",
       "  \"/>\n",
       "<circle clip-path=\"url(#clip1402)\" style=\"fill:#000000; stroke:none; fill-opacity:1\" cx=\"53.5299\" cy=\"40.7968\" r=\"4\"/>\n",
       "<circle clip-path=\"url(#clip1402)\" style=\"fill:#e26f46; stroke:none; fill-opacity:1\" cx=\"53.5299\" cy=\"40.7968\" r=\"3\"/>\n",
       "<circle clip-path=\"url(#clip1402)\" style=\"fill:#000000; stroke:none; fill-opacity:1\" cx=\"80.4479\" cy=\"42.5374\" r=\"4\"/>\n",
       "<circle clip-path=\"url(#clip1402)\" style=\"fill:#e26f46; stroke:none; fill-opacity:1\" cx=\"80.4479\" cy=\"42.5374\" r=\"3\"/>\n",
       "<circle clip-path=\"url(#clip1402)\" style=\"fill:#000000; stroke:none; fill-opacity:1\" cx=\"107.366\" cy=\"108.179\" r=\"4\"/>\n",
       "<circle clip-path=\"url(#clip1402)\" style=\"fill:#e26f46; stroke:none; fill-opacity:1\" cx=\"107.366\" cy=\"108.179\" r=\"3\"/>\n",
       "<circle clip-path=\"url(#clip1402)\" style=\"fill:#000000; stroke:none; fill-opacity:1\" cx=\"134.284\" cy=\"241.384\" r=\"4\"/>\n",
       "<circle clip-path=\"url(#clip1402)\" style=\"fill:#e26f46; stroke:none; fill-opacity:1\" cx=\"134.284\" cy=\"241.384\" r=\"3\"/>\n",
       "<circle clip-path=\"url(#clip1402)\" style=\"fill:#000000; stroke:none; fill-opacity:1\" cx=\"161.202\" cy=\"240.246\" r=\"4\"/>\n",
       "<circle clip-path=\"url(#clip1402)\" style=\"fill:#e26f46; stroke:none; fill-opacity:1\" cx=\"161.202\" cy=\"240.246\" r=\"3\"/>\n",
       "<circle clip-path=\"url(#clip1402)\" style=\"fill:#000000; stroke:none; fill-opacity:1\" cx=\"188.12\" cy=\"252.895\" r=\"4\"/>\n",
       "<circle clip-path=\"url(#clip1402)\" style=\"fill:#e26f46; stroke:none; fill-opacity:1\" cx=\"188.12\" cy=\"252.895\" r=\"3\"/>\n",
       "<circle clip-path=\"url(#clip1402)\" style=\"fill:#000000; stroke:none; fill-opacity:1\" cx=\"215.038\" cy=\"299.193\" r=\"4\"/>\n",
       "<circle clip-path=\"url(#clip1402)\" style=\"fill:#e26f46; stroke:none; fill-opacity:1\" cx=\"215.038\" cy=\"299.193\" r=\"3\"/>\n",
       "<circle clip-path=\"url(#clip1402)\" style=\"fill:#000000; stroke:none; fill-opacity:1\" cx=\"241.956\" cy=\"314.33\" r=\"4\"/>\n",
       "<circle clip-path=\"url(#clip1402)\" style=\"fill:#e26f46; stroke:none; fill-opacity:1\" cx=\"241.956\" cy=\"314.33\" r=\"3\"/>\n",
       "<circle clip-path=\"url(#clip1402)\" style=\"fill:#000000; stroke:none; fill-opacity:1\" cx=\"268.874\" cy=\"316.361\" r=\"4\"/>\n",
       "<circle clip-path=\"url(#clip1402)\" style=\"fill:#e26f46; stroke:none; fill-opacity:1\" cx=\"268.874\" cy=\"316.361\" r=\"3\"/>\n",
       "<circle clip-path=\"url(#clip1402)\" style=\"fill:#000000; stroke:none; fill-opacity:1\" cx=\"295.792\" cy=\"329.22\" r=\"4\"/>\n",
       "<circle clip-path=\"url(#clip1402)\" style=\"fill:#e26f46; stroke:none; fill-opacity:1\" cx=\"295.792\" cy=\"329.22\" r=\"3\"/>\n",
       "<circle clip-path=\"url(#clip1402)\" style=\"fill:#000000; stroke:none; fill-opacity:1\" cx=\"322.71\" cy=\"342.135\" r=\"4\"/>\n",
       "<circle clip-path=\"url(#clip1402)\" style=\"fill:#e26f46; stroke:none; fill-opacity:1\" cx=\"322.71\" cy=\"342.135\" r=\"3\"/>\n",
       "<circle clip-path=\"url(#clip1402)\" style=\"fill:#000000; stroke:none; fill-opacity:1\" cx=\"349.628\" cy=\"346.268\" r=\"4\"/>\n",
       "<circle clip-path=\"url(#clip1402)\" style=\"fill:#e26f46; stroke:none; fill-opacity:1\" cx=\"349.628\" cy=\"346.268\" r=\"3\"/>\n",
       "<circle clip-path=\"url(#clip1402)\" style=\"fill:#000000; stroke:none; fill-opacity:1\" cx=\"376.546\" cy=\"348.901\" r=\"4\"/>\n",
       "<circle clip-path=\"url(#clip1402)\" style=\"fill:#e26f46; stroke:none; fill-opacity:1\" cx=\"376.546\" cy=\"348.901\" r=\"3\"/>\n",
       "<circle clip-path=\"url(#clip1402)\" style=\"fill:#000000; stroke:none; fill-opacity:1\" cx=\"403.464\" cy=\"349.973\" r=\"4\"/>\n",
       "<circle clip-path=\"url(#clip1402)\" style=\"fill:#e26f46; stroke:none; fill-opacity:1\" cx=\"403.464\" cy=\"349.973\" r=\"3\"/>\n",
       "<circle clip-path=\"url(#clip1402)\" style=\"fill:#000000; stroke:none; fill-opacity:1\" cx=\"430.382\" cy=\"349.824\" r=\"4\"/>\n",
       "<circle clip-path=\"url(#clip1402)\" style=\"fill:#e26f46; stroke:none; fill-opacity:1\" cx=\"430.382\" cy=\"349.824\" r=\"3\"/>\n",
       "<circle clip-path=\"url(#clip1402)\" style=\"fill:#000000; stroke:none; fill-opacity:1\" cx=\"457.3\" cy=\"350.406\" r=\"4\"/>\n",
       "<circle clip-path=\"url(#clip1402)\" style=\"fill:#e26f46; stroke:none; fill-opacity:1\" cx=\"457.3\" cy=\"350.406\" r=\"3\"/>\n",
       "<circle clip-path=\"url(#clip1402)\" style=\"fill:#000000; stroke:none; fill-opacity:1\" cx=\"484.218\" cy=\"350.82\" r=\"4\"/>\n",
       "<circle clip-path=\"url(#clip1402)\" style=\"fill:#e26f46; stroke:none; fill-opacity:1\" cx=\"484.218\" cy=\"350.82\" r=\"3\"/>\n",
       "<circle clip-path=\"url(#clip1402)\" style=\"fill:#000000; stroke:none; fill-opacity:1\" cx=\"511.136\" cy=\"343.237\" r=\"4\"/>\n",
       "<circle clip-path=\"url(#clip1402)\" style=\"fill:#e26f46; stroke:none; fill-opacity:1\" cx=\"511.136\" cy=\"343.237\" r=\"3\"/>\n",
       "<circle clip-path=\"url(#clip1402)\" style=\"fill:#000000; stroke:none; fill-opacity:1\" cx=\"538.054\" cy=\"349.719\" r=\"4\"/>\n",
       "<circle clip-path=\"url(#clip1402)\" style=\"fill:#e26f46; stroke:none; fill-opacity:1\" cx=\"538.054\" cy=\"349.719\" r=\"3\"/>\n",
       "<circle clip-path=\"url(#clip1402)\" style=\"fill:#000000; stroke:none; fill-opacity:1\" cx=\"564.972\" cy=\"349.078\" r=\"4\"/>\n",
       "<circle clip-path=\"url(#clip1402)\" style=\"fill:#e26f46; stroke:none; fill-opacity:1\" cx=\"564.972\" cy=\"349.078\" r=\"3\"/>\n",
       "</svg>\n"
      ]
     },
     "execution_count": 9,
     "metadata": {},
     "output_type": "execute_result"
    }
   ],
   "source": [
    "plot([i for i in 1:20], store_ratios, legend=false)\n",
    "scatter!([i for i in 1:20], store_ratios)\n",
    "xlabel!(\"The log of the length of `foo`\")\n",
    "ylabel!(\"Factor of performance increase\")\n",
    "title!(\"Performance increase from interpolating a global variable\")"
   ]
  },
  {
   "cell_type": "markdown",
   "metadata": {},
   "source": [
    "In this case, interpolating the global variable is more important when that global variable is bound to a relatively small array. For arrays with a few thousand elements and more, interpolation doesn't seem to have an impact."
   ]
  },
  {
   "cell_type": "markdown",
   "metadata": {},
   "source": [
    "## Performance tips -- type stability\n",
    "\n",
    "One way to optimize code in Julia is to ensure **type stability**. If the type(s) of some variables in a function are subject to change or ambiguity, the compiler cannot reason as well about those variables, and performance will take a hit. Conversely, we allow the compiler to optimize and generate more efficient machine code when we declare variables so that their types will be fixed throughout the function body.\n",
    "\n",
    "For example, let's say we had functions called `baz` and `bar` with the following definitions\n",
    "\n",
    "```julia\n",
    "function baz()\n",
    "    s = rand()\n",
    "    if s > 2/3\n",
    "        return .666667\n",
    "    elseif s > 1/3\n",
    "        return 1//3    \n",
    "    else\n",
    "        return 0    \n",
    "    end\n",
    "end\n",
    "```\n",
    "\n",
    "```julia\n",
    "function bar()\n",
    "    s = rand()\n",
    "    if s > 2/3\n",
    "        return .666667\n",
    "    elseif s > 1/3\n",
    "        return .3333333    \n",
    "    else\n",
    "        return 0.0    \n",
    "    end\n",
    "end\n",
    "```\n",
    "\n",
    "When I benchmark these via\n",
    "\n",
    "```julia\n",
    "using BenchmarkTools\n",
    "@benchmark baz()\n",
    "@benchmark bar()\n",
    "```\n",
    "\n",
    "I see that `bar` is almost three times as fast as `baz`! The reason is that `bar` is type stable while `baz` is not: the compiler can tell that `bar` will always return a `Float`, whereas `baz` could return a `Float`, an `Int`, or a `Rational`. When the compiler can tell what the types of outputs from a function, or variables declared *within a function* are without running the code, it can do much better.\n",
    "\n",
    "#### Exercise\n",
    "\n",
    "The following definition for `my_sum` is not type stable. \n",
    "\n",
    "```julia\n",
    "function my_sum(A)\n",
    "    output = 0\n",
    "    for x in A\n",
    "        output += x\n",
    "    end\n",
    "    return output\n",
    "end\n",
    "```\n",
    "\n",
    "Copy and execute the above code into a new cell. Benchmark it using `A = rand(10^3)`. Then write a new function called `my_sum2` with the same function body as `my_sum`. Update `my_sum2` to make it type stable, and benchmark it for a randomly populated array with 10^3 entries.\n",
    "\n",
    "How much does type stability impact performance? If you'd like, try this same exercise for multiple sizes of `A` to see if this changes your answer!\n",
    "\n",
    "#### Solution"
   ]
  },
  {
   "cell_type": "code",
   "execution_count": 1,
   "metadata": {},
   "outputs": [
    {
     "data": {
      "text/plain": [
       "my_sum (generic function with 1 method)"
      ]
     },
     "execution_count": 1,
     "metadata": {},
     "output_type": "execute_result"
    }
   ],
   "source": [
    "function my_sum(A)\n",
    "    output = 0\n",
    "    for x in A\n",
    "        output += x\n",
    "    end\n",
    "    return output\n",
    "end"
   ]
  },
  {
   "cell_type": "code",
   "execution_count": 3,
   "metadata": {},
   "outputs": [
    {
     "data": {
      "text/plain": [
       "BenchmarkTools.Trial: \n",
       "  memory estimate:  46.86 KiB\n",
       "  allocs estimate:  2999\n",
       "  --------------\n",
       "  minimum time:     20.717 μs (0.00% GC)\n",
       "  median time:      22.574 μs (0.00% GC)\n",
       "  mean time:        26.536 μs (6.19% GC)\n",
       "  maximum time:     1.326 ms (84.65% GC)\n",
       "  --------------\n",
       "  samples:          10000\n",
       "  evals/sample:     1"
      ]
     },
     "execution_count": 3,
     "metadata": {},
     "output_type": "execute_result"
    }
   ],
   "source": [
    "using BenchmarkTools\n",
    "\n",
    "A = rand(10^3)\n",
    "@benchmark my_sum($A)\n"
   ]
  },
  {
   "cell_type": "code",
   "execution_count": 4,
   "metadata": {},
   "outputs": [
    {
     "data": {
      "text/plain": [
       "my_sum2 (generic function with 1 method)"
      ]
     },
     "execution_count": 4,
     "metadata": {},
     "output_type": "execute_result"
    }
   ],
   "source": [
    "function my_sum2(A)\n",
    "    output = zero(eltype(A))\n",
    "    # or:\n",
    "    # output = 0.0\n",
    "    for x in A\n",
    "        output += x\n",
    "    end\n",
    "    return output\n",
    "end"
   ]
  },
  {
   "cell_type": "code",
   "execution_count": 5,
   "metadata": {},
   "outputs": [
    {
     "data": {
      "text/plain": [
       "BenchmarkTools.Trial: \n",
       "  memory estimate:  0 bytes\n",
       "  allocs estimate:  0\n",
       "  --------------\n",
       "  minimum time:     902.119 ns (0.00% GC)\n",
       "  median time:      902.619 ns (0.00% GC)\n",
       "  mean time:        1.113 μs (0.00% GC)\n",
       "  maximum time:     105.412 μs (0.00% GC)\n",
       "  --------------\n",
       "  samples:          10000\n",
       "  evals/sample:     42"
      ]
     },
     "execution_count": 5,
     "metadata": {},
     "output_type": "execute_result"
    }
   ],
   "source": [
    "@benchmark my_sum2($A)"
   ]
  },
  {
   "cell_type": "markdown",
   "metadata": {},
   "source": [
    "In my run, `my_sum2` outperformed `my_sum` by a factor of over 20 for an array with 1000 elements!"
   ]
  },
  {
   "cell_type": "markdown",
   "metadata": {},
   "source": [
    "#### Exercise\n",
    "\n",
    "Make the following code type stable. You'll know your efforts are paying off when you see a performance boost!\n",
    "\n",
    "```julia\n",
    "\"\"\"\n",
    "    my_sqrt(x)\n",
    "    \n",
    "Calculate the square root of `x` with Newton's method.\n",
    "\"\"\"\n",
    "function my_sqrt(x)\n",
    "    output = 1\n",
    "    for i in 1:1000\n",
    "        output = .5 * (output + x/output)\n",
    "    end\n",
    "    output\n",
    "end\n",
    "```"
   ]
  },
  {
   "cell_type": "markdown",
   "metadata": {},
   "source": [
    "#### Solution\n",
    "\n",
    "You need to make sure `ouptut`'s type never changes in order to make this function type stable!"
   ]
  },
  {
   "cell_type": "code",
   "execution_count": 15,
   "metadata": {},
   "outputs": [
    {
     "data": {
      "text/plain": [
       "my_sqrt (generic function with 1 method)"
      ]
     },
     "execution_count": 15,
     "metadata": {},
     "output_type": "execute_result"
    }
   ],
   "source": [
    "# The type unstable version\n",
    "function my_sqrt(x)\n",
    "    output = 1\n",
    "    for i in 1:1000\n",
    "        output = .5 * (output + x/output)\n",
    "    end\n",
    "    output\n",
    "end"
   ]
  },
  {
   "cell_type": "code",
   "execution_count": 16,
   "metadata": {},
   "outputs": [
    {
     "data": {
      "text/plain": [
       "BenchmarkTools.Trial: \n",
       "  memory estimate:  78.09 KiB\n",
       "  allocs estimate:  4998\n",
       "  --------------\n",
       "  minimum time:     39.939 μs (0.00% GC)\n",
       "  median time:      50.347 μs (0.00% GC)\n",
       "  mean time:        78.705 μs (12.54% GC)\n",
       "  maximum time:     7.488 ms (93.74% GC)\n",
       "  --------------\n",
       "  samples:          10000\n",
       "  evals/sample:     1"
      ]
     },
     "execution_count": 16,
     "metadata": {},
     "output_type": "execute_result"
    }
   ],
   "source": [
    "@benchmark my_sqrt(100)"
   ]
  },
  {
   "cell_type": "code",
   "execution_count": 17,
   "metadata": {},
   "outputs": [
    {
     "data": {
      "text/plain": [
       "my_sqrt (generic function with 1 method)"
      ]
     },
     "execution_count": 17,
     "metadata": {},
     "output_type": "execute_result"
    }
   ],
   "source": [
    "# The type stable version, where `output` is always a floating point number.\n",
    "function my_sqrt(x)\n",
    "    output = 1.0\n",
    "    for i in 1:1000\n",
    "        output = .5 * (output + x/output)\n",
    "    end\n",
    "    output\n",
    "end"
   ]
  },
  {
   "cell_type": "code",
   "execution_count": 18,
   "metadata": {},
   "outputs": [
    {
     "data": {
      "text/plain": [
       "BenchmarkTools.Trial: \n",
       "  memory estimate:  0 bytes\n",
       "  allocs estimate:  0\n",
       "  --------------\n",
       "  minimum time:     5.992 μs (0.00% GC)\n",
       "  median time:      6.033 μs (0.00% GC)\n",
       "  mean time:        6.547 μs (0.00% GC)\n",
       "  maximum time:     28.872 μs (0.00% GC)\n",
       "  --------------\n",
       "  samples:          10000\n",
       "  evals/sample:     6"
      ]
     },
     "execution_count": 18,
     "metadata": {},
     "output_type": "execute_result"
    }
   ],
   "source": [
    "@benchmark my_sqrt(100)"
   ]
  },
  {
   "cell_type": "code",
   "execution_count": null,
   "metadata": {
    "collapsed": true
   },
   "outputs": [],
   "source": []
  }
 ],
 "metadata": {
  "kernelspec": {
   "display_name": "Julia 0.6.0",
   "language": "julia",
   "name": "julia-0.6"
  },
  "language_info": {
   "file_extension": ".jl",
   "mimetype": "application/julia",
   "name": "julia",
   "version": "0.6.0"
  }
 },
 "nbformat": 4,
 "nbformat_minor": 2
}
